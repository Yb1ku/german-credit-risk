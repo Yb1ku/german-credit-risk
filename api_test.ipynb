{
 "cells": [
  {
   "cell_type": "code",
   "id": "initial_id",
   "metadata": {
    "collapsed": true,
    "ExecuteTime": {
     "end_time": "2025-06-01T16:19:47.716114Z",
     "start_time": "2025-06-01T16:19:47.693264Z"
    }
   },
   "source": [
    "from pydantic import BaseModel\n",
    "from fastapi import FastAPI\n",
    "import pandas as pd\n",
    "import joblib"
   ],
   "outputs": [],
   "execution_count": 3
  },
  {
   "metadata": {
    "ExecuteTime": {
     "end_time": "2025-06-01T16:17:41.628649Z",
     "start_time": "2025-06-01T16:17:40.837852Z"
    }
   },
   "cell_type": "code",
   "source": [
    "model = joblib.load(\"api/xgboost_credit_model.joblib\")\n",
    "\n",
    "app = FastAPI()\n",
    "\n",
    "class ModelInput(BaseModel):\n",
    "    Status_of_existing_checking_account: str\n",
    "    Duration_in_month: int\n",
    "    Purpose: str\n",
    "    Credit_amount: int\n",
    "    Savings_account_bonds: str\n",
    "    Present_employment_since: str\n",
    "    Installment_rate: int\n",
    "    Personal_status_and_sex: str\n",
    "    Other_debtors: str\n",
    "    Present_residence_since: int\n",
    "    Property: str\n",
    "    Age: int\n",
    "    Other_installment_plans: str\n",
    "    Housing: str\n",
    "    Number_of_existing_credits: int\n",
    "    Job: str\n",
    "    People_liable: int\n",
    "    Telephone: str\n",
    "    Foreign_worker: str\n"
   ],
   "id": "7558e16c06a9884c",
   "outputs": [],
   "execution_count": 2
  },
  {
   "metadata": {
    "ExecuteTime": {
     "end_time": "2025-06-01T16:21:44.009237Z",
     "start_time": "2025-06-01T16:21:43.986111Z"
    }
   },
   "cell_type": "code",
   "source": [
    "@app.post(\"/predict\")\n",
    "def predict(input_data: ModelInput):\n",
    "    input_df = pd.DataFrame([input_data.model_dump()])\n",
    "\n",
    "    prediction = model.predict(input_df)[0]\n",
    "    probability = model.predict_proba(input_df)[0][1] # Probability of class 1 (good credit)\n",
    "\n",
    "    return {\n",
    "        \"prediction\": int(prediction),\n",
    "        \"probability\": round(float(probability), 3)\n",
    "    }"
   ],
   "id": "7ce2db14ceddffdb",
   "outputs": [],
   "execution_count": 5
  },
  {
   "metadata": {},
   "cell_type": "markdown",
   "source": [
    "---\n",
    "### REQUEST TEST"
   ],
   "id": "6e6ec80af78d4137"
  },
  {
   "metadata": {
    "ExecuteTime": {
     "end_time": "2025-06-01T16:39:48.420346Z",
     "start_time": "2025-06-01T16:39:48.365729Z"
    }
   },
   "cell_type": "code",
   "source": [
    "import requests\n",
    "\n",
    "url = \"http://127.0.0.1:8000/predict\"\n",
    "\n",
    "payload = {\n",
    "    \"Status_of_existing_checking_account\": \"A11\",\n",
    "    \"Duration_in_month\": 24,\n",
    "    \"Credit_history\": \"A34\",\n",
    "    \"Purpose\": \"radio/TV\",\n",
    "    \"Credit_amount\": 3000,\n",
    "    \"Savings_account_bonds\": \"A61\",\n",
    "    \"Present_employment_since\": \"A72\",\n",
    "    \"Installment_rate\": 4,\n",
    "    \"Personal_status_and_sex\": \"A93\",\n",
    "    \"Other_debtors\": \"A101\",\n",
    "    \"Present_residence_since\": 3,\n",
    "    \"Property\": \"A121\",\n",
    "    \"Age\": 35,\n",
    "    \"Other_installment_plans\": \"A143\",\n",
    "    \"Housing\": \"A151\",\n",
    "    \"Number_of_existing_credits\": 1,\n",
    "    \"Job\": \"A173\",\n",
    "    \"People_liable\": 1,\n",
    "    \"Telephone\": \"A191\",\n",
    "    \"Foreign_worker\": \"A201\"\n",
    "}\n",
    "\n",
    "response = requests.post(url, json=payload)\n",
    "print(response.json())"
   ],
   "id": "3d5d7ec8772d0fcb",
   "outputs": [
    {
     "name": "stdout",
     "output_type": "stream",
     "text": [
      "{'prediction': 0, 'probability': 0.071}\n"
     ]
    }
   ],
   "execution_count": 7
  }
 ],
 "metadata": {
  "kernelspec": {
   "display_name": "Python 3",
   "language": "python",
   "name": "python3"
  },
  "language_info": {
   "codemirror_mode": {
    "name": "ipython",
    "version": 2
   },
   "file_extension": ".py",
   "mimetype": "text/x-python",
   "name": "python",
   "nbconvert_exporter": "python",
   "pygments_lexer": "ipython2",
   "version": "2.7.6"
  }
 },
 "nbformat": 4,
 "nbformat_minor": 5
}
